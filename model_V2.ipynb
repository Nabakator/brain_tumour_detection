{
 "cells": [
  {
   "cell_type": "markdown",
   "metadata": {},
   "source": [
    "# 2. Setting up the Environment"
   ]
  },
  {
   "cell_type": "code",
   "execution_count": 1,
   "metadata": {},
   "outputs": [],
   "source": [
    "from IPython.display import clear_output\n",
    "\n",
    "'''\n",
    "!git clone https://github.com/matterport/Mask_RCNN.git # load Mask R-CNN code implementation\n",
    "!git clone https://github.com/leekunhee/Mask_RCNN # load Mask R-CNN code implementation (tensorflow2.2 compatible)\n",
    "!git clone https://github.com/ruslan-kl/brain-tumor.git # load new data set and annotations\n",
    "!git clone https://github.com/Anushaaelango/brain-tumor # load new data set and annotations (available)\n",
    "!pip3 install pycocotools\n",
    "\n",
    "rm -rf brain-tumor/.git/\n",
    "rm -rf Mask_RCNN/.git/\n",
    "'''\n",
    "\n",
    "clear_output()"
   ]
  },
  {
   "cell_type": "code",
   "execution_count": 2,
   "metadata": {},
   "outputs": [],
   "source": [
    "import os \n",
    "import sys\n",
    "from tqdm import tqdm\n",
    "import cv2\n",
    "import numpy as np\n",
    "import json\n",
    "import skimage.draw\n",
    "import matplotlib\n",
    "import matplotlib.pyplot as plt\n",
    "import random\n",
    "\n",
    "# Root directory of the project\n",
    "ROOT_DIR = os.path.abspath('Mask_RCNN/')\n",
    "\n",
    "# Import Mask RCNN\n",
    "sys.path.append(ROOT_DIR) \n",
    "from mrcnn.config import Config\n",
    "from mrcnn import utils\n",
    "from mrcnn.model import log\n",
    "\n",
    "import mrcnn.model as modellib\n",
    "from mrcnn import visualize\n",
    "\n",
    "# Import COCO config\n",
    "sys.path.append(os.path.join(ROOT_DIR, 'samples/coco/'))\n",
    "\n",
    "from Mask_RCNN.samples.coco import coco\n",
    "\n",
    "plt.rcParams['figure.facecolor'] = 'white'\n",
    "\n",
    "clear_output()"
   ]
  },
  {
   "cell_type": "code",
   "execution_count": 3,
   "metadata": {},
   "outputs": [],
   "source": [
    "def get_ax(rows=1, cols=1, size=7):\n",
    "    \"\"\"Return a Matplotlib Axes array to be used in\n",
    "    all visualizations in the notebook. Provide a\n",
    "    central point to control graph sizes.\n",
    "    \n",
    "    Change the default size attribute to control the size\n",
    "    of rendered images\n",
    "    \"\"\"\n",
    "    _, ax = plt.subplots(rows, cols, figsize=(size*cols, size*rows))\n",
    "    return ax"
   ]
  },
  {
   "cell_type": "code",
   "execution_count": 4,
   "metadata": {},
   "outputs": [],
   "source": [
    "\n",
    "MODEL_DIR = os.path.join(ROOT_DIR, 'logs') # directory to save logs and trained model\n",
    "# ANNOTATIONS_DIR = 'brain-tumor/data/new/annotations/' # directory with annotations for train/val sets\n",
    "DATASET_DIR = 'brain-tumor/data_cleaned/' # directory with image data\n",
    "DEFAULT_LOGS_DIR = 'logs' \n",
    "\n",
    "# Local path to trained weights file\n",
    "COCO_MODEL_PATH = os.path.join(ROOT_DIR, \"mask_rcnn_coco.h5\")\n",
    "# Download COCO trained weights from Releases if needed\n",
    "\n",
    "if not os.path.exists(COCO_MODEL_PATH):\n",
    "    utils.download_trained_weights(COCO_MODEL_PATH)    \n"
   ]
  },
  {
   "cell_type": "code",
   "execution_count": 5,
   "metadata": {},
   "outputs": [
    {
     "name": "stdout",
     "output_type": "stream",
     "text": [
      "\n",
      "Configurations:\n",
      "BACKBONE                       resnet101\n",
      "BACKBONE_STRIDES               [4, 8, 16, 32, 64]\n",
      "BATCH_SIZE                     1\n",
      "BBOX_STD_DEV                   [0.1 0.1 0.2 0.2]\n",
      "COMPUTE_BACKBONE_SHAPE         None\n",
      "DETECTION_MAX_INSTANCES        100\n",
      "DETECTION_MIN_CONFIDENCE       0.85\n",
      "DETECTION_NMS_THRESHOLD        0.3\n",
      "FPN_CLASSIF_FC_LAYERS_SIZE     1024\n",
      "GPU_COUNT                      1\n",
      "GRADIENT_CLIP_NORM             5.0\n",
      "IMAGES_PER_GPU                 1\n",
      "IMAGE_MAX_DIM                  1024\n",
      "IMAGE_META_SIZE                14\n",
      "IMAGE_MIN_DIM                  800\n",
      "IMAGE_MIN_SCALE                0\n",
      "IMAGE_RESIZE_MODE              square\n",
      "IMAGE_SHAPE                    [1024 1024    3]\n",
      "LEARNING_MOMENTUM              0.9\n",
      "LEARNING_RATE                  0.001\n",
      "LOSS_WEIGHTS                   {'rpn_class_loss': 1.0, 'rpn_bbox_loss': 1.0, 'mrcnn_class_loss': 1.0, 'mrcnn_bbox_loss': 1.0, 'mrcnn_mask_loss': 1.0}\n",
      "MASK_POOL_SIZE                 14\n",
      "MASK_SHAPE                     [28, 28]\n",
      "MAX_GT_INSTANCES               100\n",
      "MEAN_PIXEL                     [123.7 116.8 103.9]\n",
      "MINI_MASK_SHAPE                (56, 56)\n",
      "NAME                           tumor_detector\n",
      "NUM_CLASSES                    2\n",
      "POOL_SIZE                      7\n",
      "POST_NMS_ROIS_INFERENCE        1000\n",
      "POST_NMS_ROIS_TRAINING         2000\n",
      "PRE_NMS_LIMIT                  600\n",
      "ROI_POSITIVE_RATIO             0.33\n",
      "RPN_ANCHOR_RATIOS              [0.5, 1, 2]\n",
      "RPN_ANCHOR_SCALES              (32, 64, 128, 256, 512)\n",
      "RPN_ANCHOR_STRIDE              1\n",
      "RPN_BBOX_STD_DEV               [0.1 0.1 0.2 0.2]\n",
      "RPN_NMS_THRESHOLD              0.7\n",
      "RPN_TRAIN_ANCHORS_PER_IMAGE    256\n",
      "STEPS_PER_EPOCH                100\n",
      "TOP_DOWN_PYRAMID_SIZE          256\n",
      "TRAIN_BN                       False\n",
      "TRAIN_ROIS_PER_IMAGE           200\n",
      "USE_MINI_MASK                  True\n",
      "USE_RPN_ROIS                   True\n",
      "VALIDATION_STEPS               50\n",
      "WEIGHT_DECAY                   0.0001\n",
      "\n",
      "\n"
     ]
    }
   ],
   "source": [
    "from tumor_config import TumorConfig\n",
    "    \n",
    "config = TumorConfig()\n",
    "config.display()"
   ]
  },
  {
   "cell_type": "code",
   "execution_count": 6,
   "metadata": {},
   "outputs": [],
   "source": [
    "from brain_scan_dataset import BrainScanDataset"
   ]
  },
  {
   "cell_type": "markdown",
   "metadata": {},
   "source": [
    "# 3. Mask R-CNN Model"
   ]
  },
  {
   "cell_type": "code",
   "execution_count": 7,
   "metadata": {},
   "outputs": [
    {
     "name": "stderr",
     "output_type": "stream",
     "text": [
      "2023-11-04 20:19:07.619437: I tensorflow/compiler/mlir/mlir_graph_optimization_pass.cc:382] MLIR V1 optimization pass is not enabled\n",
      "2023-11-04 20:19:07.643385: W tensorflow/core/common_runtime/type_inference.cc:339] Type inference failed. This indicates an invalid graph that escaped type checking. Error message: INVALID_ARGUMENT: expected compatible input types, but input 1:\n",
      "type_id: TFT_OPTIONAL\n",
      "args {\n",
      "  type_id: TFT_PRODUCT\n",
      "  args {\n",
      "    type_id: TFT_TENSOR\n",
      "    args {\n",
      "      type_id: TFT_FLOAT\n",
      "    }\n",
      "  }\n",
      "}\n",
      " is neither a subtype nor a supertype of the combined inputs preceding it:\n",
      "type_id: TFT_OPTIONAL\n",
      "args {\n",
      "  type_id: TFT_PRODUCT\n",
      "  args {\n",
      "    type_id: TFT_TENSOR\n",
      "    args {\n",
      "      type_id: TFT_INT32\n",
      "    }\n",
      "  }\n",
      "}\n",
      "\n",
      "\tfor Tuple type infernce function 0\n",
      "\twhile inferring type of node 'proposal_targets/cond/output/_16'\n"
     ]
    }
   ],
   "source": [
    "model = modellib.MaskRCNN(\n",
    "    mode='training', \n",
    "    config=config, \n",
    "    model_dir=DEFAULT_LOGS_DIR\n",
    ")\n",
    "\n",
    "model.load_weights(\n",
    "    COCO_MODEL_PATH, \n",
    "    by_name=True, \n",
    "    exclude=[\"mrcnn_class_logits\", \"mrcnn_bbox_fc\", \"mrcnn_bbox\", \"mrcnn_mask\"]\n",
    ")"
   ]
  },
  {
   "cell_type": "code",
   "execution_count": 8,
   "metadata": {},
   "outputs": [
    {
     "name": "stdout",
     "output_type": "stream",
     "text": [
      "Training network heads\n",
      "\n",
      "Starting at epoch 0. LR=0.001\n",
      "\n",
      "Checkpoint Path: logs/tumor_detector20231104T2019/mask_rcnn_tumor_detector_{epoch:04d}.h5\n",
      "Selecting layers to train\n",
      "fpn_c5p5               (Conv2D)\n",
      "fpn_c4p4               (Conv2D)\n",
      "fpn_c3p3               (Conv2D)\n",
      "fpn_c2p2               (Conv2D)\n",
      "fpn_p5                 (Conv2D)\n",
      "fpn_p2                 (Conv2D)\n",
      "fpn_p3                 (Conv2D)\n",
      "fpn_p4                 (Conv2D)\n",
      "rpn_model              (Functional)\n",
      "mrcnn_mask_conv1       (TimeDistributed)\n",
      "mrcnn_mask_bn1         (TimeDistributed)\n",
      "mrcnn_mask_conv2       (TimeDistributed)\n",
      "mrcnn_mask_bn2         (TimeDistributed)\n",
      "mrcnn_class_conv1      (TimeDistributed)\n",
      "mrcnn_class_bn1        (TimeDistributed)\n",
      "mrcnn_mask_conv3       (TimeDistributed)\n",
      "mrcnn_mask_bn3         (TimeDistributed)\n",
      "mrcnn_class_conv2      (TimeDistributed)\n",
      "mrcnn_class_bn2        (TimeDistributed)\n",
      "mrcnn_mask_conv4       (TimeDistributed)\n",
      "mrcnn_mask_bn4         (TimeDistributed)\n",
      "mrcnn_bbox_fc          (TimeDistributed)\n",
      "mrcnn_mask_deconv      (TimeDistributed)\n",
      "mrcnn_class_logits     (TimeDistributed)\n",
      "mrcnn_mask             (TimeDistributed)\n"
     ]
    },
    {
     "name": "stderr",
     "output_type": "stream",
     "text": [
      "/home/sdp/.local/lib/python3.10/site-packages/keras/src/optimizers/legacy/gradient_descent.py:114: UserWarning: The `lr` argument is deprecated, use `learning_rate` instead.\n",
      "  super().__init__(name, **kwargs)\n",
      "2023-11-04 20:19:09.069052: W tensorflow/c/c_api.cc:305] Operation '{name:'rpn_bbox_pred/bias/Assign' id:5724 op device:{requested: '', assigned: ''} def:{{{node rpn_bbox_pred/bias/Assign}} = AssignVariableOp[_has_manual_control_dependencies=true, dtype=DT_FLOAT, validate_shape=false](rpn_bbox_pred/bias, rpn_bbox_pred/bias/Initializer/zeros)}}' was changed by setting attribute after it was run by a session. This mutation will have no effect, and will trigger an error in the future. Either don't modify nodes after running them or create a new session.\n",
      "2023-11-04 20:19:10.875202: W tensorflow/c/c_api.cc:305] Operation '{name:'range' id:9905 op device:{requested: '', assigned: ''} def:{{{node range}} = Range[Tidx=DT_INT32, _has_manual_control_dependencies=true](range/start, Rank, range/delta)}}' was changed by setting attribute after it was run by a session. This mutation will have no effect, and will trigger an error in the future. Either don't modify nodes after running them or create a new session.\n",
      "2023-11-04 20:19:11.166940: W tensorflow/c/c_api.cc:305] Operation '{name:'range_1' id:10607 op device:{requested: '', assigned: ''} def:{{{node range_1}} = Range[Tidx=DT_INT32, _has_manual_control_dependencies=true](range_1/start, Rank_1, range_1/delta)}}' was changed by setting attribute after it was run by a session. This mutation will have no effect, and will trigger an error in the future. Either don't modify nodes after running them or create a new session.\n",
      "2023-11-04 20:19:11.446378: W tensorflow/c/c_api.cc:305] Operation '{name:'range_2' id:10617 op device:{requested: '', assigned: ''} def:{{{node range_2}} = Range[Tidx=DT_INT32, _has_manual_control_dependencies=true](range_2/start, Rank_2, range_2/delta)}}' was changed by setting attribute after it was run by a session. This mutation will have no effect, and will trigger an error in the future. Either don't modify nodes after running them or create a new session.\n",
      "2023-11-04 20:19:11.726943: W tensorflow/c/c_api.cc:305] Operation '{name:'range_3' id:10627 op device:{requested: '', assigned: ''} def:{{{node range_3}} = Range[Tidx=DT_INT32, _has_manual_control_dependencies=true](range_3/start, Rank_3, range_3/delta)}}' was changed by setting attribute after it was run by a session. This mutation will have no effect, and will trigger an error in the future. Either don't modify nodes after running them or create a new session.\n",
      "2023-11-04 20:19:12.009229: W tensorflow/c/c_api.cc:305] Operation '{name:'range_4' id:10637 op device:{requested: '', assigned: ''} def:{{{node range_4}} = Range[Tidx=DT_INT32, _has_manual_control_dependencies=true](range_4/start, Rank_4, range_4/delta)}}' was changed by setting attribute after it was run by a session. This mutation will have no effect, and will trigger an error in the future. Either don't modify nodes after running them or create a new session.\n",
      "2023-11-04 20:19:12.356501: W tensorflow/c/c_api.cc:305] Operation '{name:'truediv_1' id:10659 op device:{requested: '', assigned: ''} def:{{{node truediv_1}} = RealDiv[T=DT_FLOAT, _has_manual_control_dependencies=true](mul_6, Cast_1)}}' was changed by setting attribute after it was run by a session. This mutation will have no effect, and will trigger an error in the future. Either don't modify nodes after running them or create a new session.\n",
      "2023-11-04 20:19:12.496231: W tensorflow/c/c_api.cc:305] Operation '{name:'truediv_2' id:10667 op device:{requested: '', assigned: ''} def:{{{node truediv_2}} = RealDiv[T=DT_FLOAT, _has_manual_control_dependencies=true](mul_7, Cast_2)}}' was changed by setting attribute after it was run by a session. This mutation will have no effect, and will trigger an error in the future. Either don't modify nodes after running them or create a new session.\n",
      "2023-11-04 20:19:12.635074: W tensorflow/c/c_api.cc:305] Operation '{name:'truediv_3' id:10675 op device:{requested: '', assigned: ''} def:{{{node truediv_3}} = RealDiv[T=DT_FLOAT, _has_manual_control_dependencies=true](mul_8, Cast_3)}}' was changed by setting attribute after it was run by a session. This mutation will have no effect, and will trigger an error in the future. Either don't modify nodes after running them or create a new session.\n",
      "2023-11-04 20:19:12.774497: W tensorflow/c/c_api.cc:305] Operation '{name:'truediv_4' id:10683 op device:{requested: '', assigned: ''} def:{{{node truediv_4}} = RealDiv[T=DT_FLOAT, _has_manual_control_dependencies=true](mul_9, Cast_4)}}' was changed by setting attribute after it was run by a session. This mutation will have no effect, and will trigger an error in the future. Either don't modify nodes after running them or create a new session.\n",
      "2023-11-04 20:19:12.913973: W tensorflow/c/c_api.cc:305] Operation '{name:'truediv_5' id:10691 op device:{requested: '', assigned: ''} def:{{{node truediv_5}} = RealDiv[T=DT_FLOAT, _has_manual_control_dependencies=true](mul_10, Cast_5)}}' was changed by setting attribute after it was run by a session. This mutation will have no effect, and will trigger an error in the future. Either don't modify nodes after running them or create a new session.\n",
      "2023-11-04 20:19:13.053567: W tensorflow/c/c_api.cc:305] Operation '{name:'truediv_6' id:10699 op device:{requested: '', assigned: ''} def:{{{node truediv_6}} = RealDiv[T=DT_FLOAT, _has_manual_control_dependencies=true](mul_11, Cast_6)}}' was changed by setting attribute after it was run by a session. This mutation will have no effect, and will trigger an error in the future. Either don't modify nodes after running them or create a new session.\n",
      "2023-11-04 20:19:13.194491: W tensorflow/c/c_api.cc:305] Operation '{name:'truediv_7' id:10707 op device:{requested: '', assigned: ''} def:{{{node truediv_7}} = RealDiv[T=DT_FLOAT, _has_manual_control_dependencies=true](mul_12, Cast_7)}}' was changed by setting attribute after it was run by a session. This mutation will have no effect, and will trigger an error in the future. Either don't modify nodes after running them or create a new session.\n",
      "2023-11-04 20:19:13.334642: W tensorflow/c/c_api.cc:305] Operation '{name:'truediv_8' id:10715 op device:{requested: '', assigned: ''} def:{{{node truediv_8}} = RealDiv[T=DT_FLOAT, _has_manual_control_dependencies=true](mul_13, Cast_8)}}' was changed by setting attribute after it was run by a session. This mutation will have no effect, and will trigger an error in the future. Either don't modify nodes after running them or create a new session.\n",
      "2023-11-04 20:19:13.475156: W tensorflow/c/c_api.cc:305] Operation '{name:'truediv_9' id:10723 op device:{requested: '', assigned: ''} def:{{{node truediv_9}} = RealDiv[T=DT_FLOAT, _has_manual_control_dependencies=true](mul_14, Cast_9)}}' was changed by setting attribute after it was run by a session. This mutation will have no effect, and will trigger an error in the future. Either don't modify nodes after running them or create a new session.\n",
      "2023-11-04 20:19:13.615488: W tensorflow/c/c_api.cc:305] Operation '{name:'truediv_10' id:10731 op device:{requested: '', assigned: ''} def:{{{node truediv_10}} = RealDiv[T=DT_FLOAT, _has_manual_control_dependencies=true](mul_15, Cast_10)}}' was changed by setting attribute after it was run by a session. This mutation will have no effect, and will trigger an error in the future. Either don't modify nodes after running them or create a new session.\n",
      "2023-11-04 20:19:13.757008: W tensorflow/c/c_api.cc:305] Operation '{name:'truediv_11' id:10739 op device:{requested: '', assigned: ''} def:{{{node truediv_11}} = RealDiv[T=DT_FLOAT, _has_manual_control_dependencies=true](mul_16, Cast_11)}}' was changed by setting attribute after it was run by a session. This mutation will have no effect, and will trigger an error in the future. Either don't modify nodes after running them or create a new session.\n",
      "2023-11-04 20:19:13.897462: W tensorflow/c/c_api.cc:305] Operation '{name:'truediv_12' id:10747 op device:{requested: '', assigned: ''} def:{{{node truediv_12}} = RealDiv[T=DT_FLOAT, _has_manual_control_dependencies=true](mul_17, Cast_12)}}' was changed by setting attribute after it was run by a session. This mutation will have no effect, and will trigger an error in the future. Either don't modify nodes after running them or create a new session.\n",
      "2023-11-04 20:19:14.037849: W tensorflow/c/c_api.cc:305] Operation '{name:'truediv_13' id:10755 op device:{requested: '', assigned: ''} def:{{{node truediv_13}} = RealDiv[T=DT_FLOAT, _has_manual_control_dependencies=true](mul_18, Cast_13)}}' was changed by setting attribute after it was run by a session. This mutation will have no effect, and will trigger an error in the future. Either don't modify nodes after running them or create a new session.\n",
      "2023-11-04 20:19:14.178191: W tensorflow/c/c_api.cc:305] Operation '{name:'truediv_14' id:10763 op device:{requested: '', assigned: ''} def:{{{node truediv_14}} = RealDiv[T=DT_FLOAT, _has_manual_control_dependencies=true](mul_19, Cast_14)}}' was changed by setting attribute after it was run by a session. This mutation will have no effect, and will trigger an error in the future. Either don't modify nodes after running them or create a new session.\n",
      "2023-11-04 20:19:14.318566: W tensorflow/c/c_api.cc:305] Operation '{name:'truediv_15' id:10771 op device:{requested: '', assigned: ''} def:{{{node truediv_15}} = RealDiv[T=DT_FLOAT, _has_manual_control_dependencies=true](mul_20, Cast_15)}}' was changed by setting attribute after it was run by a session. This mutation will have no effect, and will trigger an error in the future. Either don't modify nodes after running them or create a new session.\n",
      "2023-11-04 20:19:14.458833: W tensorflow/c/c_api.cc:305] Operation '{name:'truediv_16' id:10779 op device:{requested: '', assigned: ''} def:{{{node truediv_16}} = RealDiv[T=DT_FLOAT, _has_manual_control_dependencies=true](mul_21, Cast_16)}}' was changed by setting attribute after it was run by a session. This mutation will have no effect, and will trigger an error in the future. Either don't modify nodes after running them or create a new session.\n",
      "2023-11-04 20:19:14.599677: W tensorflow/c/c_api.cc:305] Operation '{name:'truediv_17' id:10787 op device:{requested: '', assigned: ''} def:{{{node truediv_17}} = RealDiv[T=DT_FLOAT, _has_manual_control_dependencies=true](mul_22, Cast_17)}}' was changed by setting attribute after it was run by a session. This mutation will have no effect, and will trigger an error in the future. Either don't modify nodes after running them or create a new session.\n",
      "2023-11-04 20:19:14.740575: W tensorflow/c/c_api.cc:305] Operation '{name:'truediv_18' id:10795 op device:{requested: '', assigned: ''} def:{{{node truediv_18}} = RealDiv[T=DT_FLOAT, _has_manual_control_dependencies=true](mul_23, Cast_18)}}' was changed by setting attribute after it was run by a session. This mutation will have no effect, and will trigger an error in the future. Either don't modify nodes after running them or create a new session.\n",
      "2023-11-04 20:19:14.881555: W tensorflow/c/c_api.cc:305] Operation '{name:'truediv_19' id:10803 op device:{requested: '', assigned: ''} def:{{{node truediv_19}} = RealDiv[T=DT_FLOAT, _has_manual_control_dependencies=true](mul_24, Cast_19)}}' was changed by setting attribute after it was run by a session. This mutation will have no effect, and will trigger an error in the future. Either don't modify nodes after running them or create a new session.\n",
      "2023-11-04 20:19:15.022653: W tensorflow/c/c_api.cc:305] Operation '{name:'truediv_20' id:10811 op device:{requested: '', assigned: ''} def:{{{node truediv_20}} = RealDiv[T=DT_FLOAT, _has_manual_control_dependencies=true](mul_25, Cast_20)}}' was changed by setting attribute after it was run by a session. This mutation will have no effect, and will trigger an error in the future. Either don't modify nodes after running them or create a new session.\n",
      "2023-11-04 20:19:15.163915: W tensorflow/c/c_api.cc:305] Operation '{name:'truediv_21' id:10819 op device:{requested: '', assigned: ''} def:{{{node truediv_21}} = RealDiv[T=DT_FLOAT, _has_manual_control_dependencies=true](mul_26, Cast_21)}}' was changed by setting attribute after it was run by a session. This mutation will have no effect, and will trigger an error in the future. Either don't modify nodes after running them or create a new session.\n",
      "2023-11-04 20:19:15.304825: W tensorflow/c/c_api.cc:305] Operation '{name:'truediv_22' id:10827 op device:{requested: '', assigned: ''} def:{{{node truediv_22}} = RealDiv[T=DT_FLOAT, _has_manual_control_dependencies=true](mul_27, Cast_22)}}' was changed by setting attribute after it was run by a session. This mutation will have no effect, and will trigger an error in the future. Either don't modify nodes after running them or create a new session.\n",
      "2023-11-04 20:19:15.446062: W tensorflow/c/c_api.cc:305] Operation '{name:'truediv_23' id:10835 op device:{requested: '', assigned: ''} def:{{{node truediv_23}} = RealDiv[T=DT_FLOAT, _has_manual_control_dependencies=true](mul_28, Cast_23)}}' was changed by setting attribute after it was run by a session. This mutation will have no effect, and will trigger an error in the future. Either don't modify nodes after running them or create a new session.\n",
      "2023-11-04 20:19:15.587143: W tensorflow/c/c_api.cc:305] Operation '{name:'truediv_24' id:10843 op device:{requested: '', assigned: ''} def:{{{node truediv_24}} = RealDiv[T=DT_FLOAT, _has_manual_control_dependencies=true](mul_29, Cast_24)}}' was changed by setting attribute after it was run by a session. This mutation will have no effect, and will trigger an error in the future. Either don't modify nodes after running them or create a new session.\n",
      "2023-11-04 20:19:15.728352: W tensorflow/c/c_api.cc:305] Operation '{name:'truediv_25' id:10851 op device:{requested: '', assigned: ''} def:{{{node truediv_25}} = RealDiv[T=DT_FLOAT, _has_manual_control_dependencies=true](mul_30, Cast_25)}}' was changed by setting attribute after it was run by a session. This mutation will have no effect, and will trigger an error in the future. Either don't modify nodes after running them or create a new session.\n",
      "2023-11-04 20:19:15.869990: W tensorflow/c/c_api.cc:305] Operation '{name:'truediv_26' id:10859 op device:{requested: '', assigned: ''} def:{{{node truediv_26}} = RealDiv[T=DT_FLOAT, _has_manual_control_dependencies=true](mul_31, Cast_26)}}' was changed by setting attribute after it was run by a session. This mutation will have no effect, and will trigger an error in the future. Either don't modify nodes after running them or create a new session.\n",
      "2023-11-04 20:19:16.011566: W tensorflow/c/c_api.cc:305] Operation '{name:'truediv_27' id:10867 op device:{requested: '', assigned: ''} def:{{{node truediv_27}} = RealDiv[T=DT_FLOAT, _has_manual_control_dependencies=true](mul_32, Cast_27)}}' was changed by setting attribute after it was run by a session. This mutation will have no effect, and will trigger an error in the future. Either don't modify nodes after running them or create a new session.\n",
      "2023-11-04 20:19:16.154740: W tensorflow/c/c_api.cc:305] Operation '{name:'truediv_28' id:10875 op device:{requested: '', assigned: ''} def:{{{node truediv_28}} = RealDiv[T=DT_FLOAT, _has_manual_control_dependencies=true](mul_33, Cast_28)}}' was changed by setting attribute after it was run by a session. This mutation will have no effect, and will trigger an error in the future. Either don't modify nodes after running them or create a new session.\n",
      "2023-11-04 20:19:16.297478: W tensorflow/c/c_api.cc:305] Operation '{name:'truediv_29' id:10883 op device:{requested: '', assigned: ''} def:{{{node truediv_29}} = RealDiv[T=DT_FLOAT, _has_manual_control_dependencies=true](mul_34, Cast_29)}}' was changed by setting attribute after it was run by a session. This mutation will have no effect, and will trigger an error in the future. Either don't modify nodes after running them or create a new session.\n",
      "2023-11-04 20:19:16.439149: W tensorflow/c/c_api.cc:305] Operation '{name:'truediv_30' id:10891 op device:{requested: '', assigned: ''} def:{{{node truediv_30}} = RealDiv[T=DT_FLOAT, _has_manual_control_dependencies=true](mul_35, Cast_30)}}' was changed by setting attribute after it was run by a session. This mutation will have no effect, and will trigger an error in the future. Either don't modify nodes after running them or create a new session.\n",
      "2023-11-04 20:19:16.580755: W tensorflow/c/c_api.cc:305] Operation '{name:'truediv_31' id:10899 op device:{requested: '', assigned: ''} def:{{{node truediv_31}} = RealDiv[T=DT_FLOAT, _has_manual_control_dependencies=true](mul_36, Cast_31)}}' was changed by setting attribute after it was run by a session. This mutation will have no effect, and will trigger an error in the future. Either don't modify nodes after running them or create a new session.\n",
      "2023-11-04 20:19:16.722183: W tensorflow/c/c_api.cc:305] Operation '{name:'truediv_32' id:10907 op device:{requested: '', assigned: ''} def:{{{node truediv_32}} = RealDiv[T=DT_FLOAT, _has_manual_control_dependencies=true](mul_37, Cast_32)}}' was changed by setting attribute after it was run by a session. This mutation will have no effect, and will trigger an error in the future. Either don't modify nodes after running them or create a new session.\n",
      "2023-11-04 20:19:16.863854: W tensorflow/c/c_api.cc:305] Operation '{name:'truediv_33' id:10915 op device:{requested: '', assigned: ''} def:{{{node truediv_33}} = RealDiv[T=DT_FLOAT, _has_manual_control_dependencies=true](mul_38, Cast_33)}}' was changed by setting attribute after it was run by a session. This mutation will have no effect, and will trigger an error in the future. Either don't modify nodes after running them or create a new session.\n",
      "2023-11-04 20:19:17.005555: W tensorflow/c/c_api.cc:305] Operation '{name:'truediv_34' id:10923 op device:{requested: '', assigned: ''} def:{{{node truediv_34}} = RealDiv[T=DT_FLOAT, _has_manual_control_dependencies=true](mul_39, Cast_34)}}' was changed by setting attribute after it was run by a session. This mutation will have no effect, and will trigger an error in the future. Either don't modify nodes after running them or create a new session.\n",
      "2023-11-04 20:19:17.159973: W tensorflow/c/c_api.cc:305] Operation '{name:'truediv_35' id:10931 op device:{requested: '', assigned: ''} def:{{{node truediv_35}} = RealDiv[T=DT_FLOAT, _has_manual_control_dependencies=true](mul_40, Cast_35)}}' was changed by setting attribute after it was run by a session. This mutation will have no effect, and will trigger an error in the future. Either don't modify nodes after running them or create a new session.\n",
      "2023-11-04 20:19:17.304443: W tensorflow/c/c_api.cc:305] Operation '{name:'truediv_36' id:10939 op device:{requested: '', assigned: ''} def:{{{node truediv_36}} = RealDiv[T=DT_FLOAT, _has_manual_control_dependencies=true](mul_41, Cast_36)}}' was changed by setting attribute after it was run by a session. This mutation will have no effect, and will trigger an error in the future. Either don't modify nodes after running them or create a new session.\n",
      "2023-11-04 20:19:17.446829: W tensorflow/c/c_api.cc:305] Operation '{name:'truediv_37' id:10947 op device:{requested: '', assigned: ''} def:{{{node truediv_37}} = RealDiv[T=DT_FLOAT, _has_manual_control_dependencies=true](mul_42, Cast_37)}}' was changed by setting attribute after it was run by a session. This mutation will have no effect, and will trigger an error in the future. Either don't modify nodes after running them or create a new session.\n",
      "2023-11-04 20:19:17.589080: W tensorflow/c/c_api.cc:305] Operation '{name:'truediv_38' id:10955 op device:{requested: '', assigned: ''} def:{{{node truediv_38}} = RealDiv[T=DT_FLOAT, _has_manual_control_dependencies=true](mul_43, Cast_38)}}' was changed by setting attribute after it was run by a session. This mutation will have no effect, and will trigger an error in the future. Either don't modify nodes after running them or create a new session.\n",
      "2023-11-04 20:19:17.730893: W tensorflow/c/c_api.cc:305] Operation '{name:'truediv_39' id:10963 op device:{requested: '', assigned: ''} def:{{{node truediv_39}} = RealDiv[T=DT_FLOAT, _has_manual_control_dependencies=true](mul_44, Cast_39)}}' was changed by setting attribute after it was run by a session. This mutation will have no effect, and will trigger an error in the future. Either don't modify nodes after running them or create a new session.\n",
      "2023-11-04 20:19:17.872633: W tensorflow/c/c_api.cc:305] Operation '{name:'truediv_40' id:10971 op device:{requested: '', assigned: ''} def:{{{node truediv_40}} = RealDiv[T=DT_FLOAT, _has_manual_control_dependencies=true](mul_45, Cast_40)}}' was changed by setting attribute after it was run by a session. This mutation will have no effect, and will trigger an error in the future. Either don't modify nodes after running them or create a new session.\n",
      "2023-11-04 20:19:18.014543: W tensorflow/c/c_api.cc:305] Operation '{name:'truediv_41' id:10979 op device:{requested: '', assigned: ''} def:{{{node truediv_41}} = RealDiv[T=DT_FLOAT, _has_manual_control_dependencies=true](mul_46, Cast_41)}}' was changed by setting attribute after it was run by a session. This mutation will have no effect, and will trigger an error in the future. Either don't modify nodes after running them or create a new session.\n",
      "2023-11-04 20:19:18.334902: W tensorflow/c/c_api.cc:305] Operation '{name:'range_5' id:11028 op device:{requested: '', assigned: ''} def:{{{node range_5}} = Range[Tidx=DT_INT32, _has_manual_control_dependencies=true](range_5/start, Rank_5, range_5/delta)}}' was changed by setting attribute after it was run by a session. This mutation will have no effect, and will trigger an error in the future. Either don't modify nodes after running them or create a new session.\n",
      "2023-11-04 20:19:18.645868: W tensorflow/c/c_api.cc:305] Operation '{name:'add_metric/total/Assign' id:11037 op device:{requested: '', assigned: ''} def:{{{node add_metric/total/Assign}} = AssignVariableOp[_has_manual_control_dependencies=true, dtype=DT_FLOAT, validate_shape=false](add_metric/total, add_metric/total/Initializer/zeros)}}' was changed by setting attribute after it was run by a session. This mutation will have no effect, and will trigger an error in the future. Either don't modify nodes after running them or create a new session.\n",
      "2023-11-04 20:19:18.827175: W tensorflow/c/c_api.cc:305] Operation '{name:'range_6' id:11063 op device:{requested: '', assigned: ''} def:{{{node range_6}} = Range[Tidx=DT_INT32, _has_manual_control_dependencies=true](range_6/start, Rank_6, range_6/delta)}}' was changed by setting attribute after it was run by a session. This mutation will have no effect, and will trigger an error in the future. Either don't modify nodes after running them or create a new session.\n",
      "2023-11-04 20:19:19.137240: W tensorflow/c/c_api.cc:305] Operation '{name:'add_metric_1/count/Assign' id:11080 op device:{requested: '', assigned: ''} def:{{{node add_metric_1/count/Assign}} = AssignVariableOp[_has_manual_control_dependencies=true, dtype=DT_FLOAT, validate_shape=false](add_metric_1/count, add_metric_1/count/Initializer/zeros)}}' was changed by setting attribute after it was run by a session. This mutation will have no effect, and will trigger an error in the future. Either don't modify nodes after running them or create a new session.\n",
      "2023-11-04 20:19:19.319305: W tensorflow/c/c_api.cc:305] Operation '{name:'range_7' id:11101 op device:{requested: '', assigned: ''} def:{{{node range_7}} = Range[Tidx=DT_INT32, _has_manual_control_dependencies=true](range_7/start, Rank_7, range_7/delta)}}' was changed by setting attribute after it was run by a session. This mutation will have no effect, and will trigger an error in the future. Either don't modify nodes after running them or create a new session.\n",
      "2023-11-04 20:19:19.630381: W tensorflow/c/c_api.cc:305] Operation '{name:'add_metric_2/total/Assign' id:11113 op device:{requested: '', assigned: ''} def:{{{node add_metric_2/total/Assign}} = AssignVariableOp[_has_manual_control_dependencies=true, dtype=DT_FLOAT, validate_shape=false](add_metric_2/total, add_metric_2/total/Initializer/zeros)}}' was changed by setting attribute after it was run by a session. This mutation will have no effect, and will trigger an error in the future. Either don't modify nodes after running them or create a new session.\n",
      "2023-11-04 20:19:19.812620: W tensorflow/c/c_api.cc:305] Operation '{name:'range_8' id:11139 op device:{requested: '', assigned: ''} def:{{{node range_8}} = Range[Tidx=DT_INT32, _has_manual_control_dependencies=true](range_8/start, Rank_8, range_8/delta)}}' was changed by setting attribute after it was run by a session. This mutation will have no effect, and will trigger an error in the future. Either don't modify nodes after running them or create a new session.\n",
      "2023-11-04 20:19:20.124572: W tensorflow/c/c_api.cc:305] Operation '{name:'add_metric_3/count/Assign' id:11156 op device:{requested: '', assigned: ''} def:{{{node add_metric_3/count/Assign}} = AssignVariableOp[_has_manual_control_dependencies=true, dtype=DT_FLOAT, validate_shape=false](add_metric_3/count, add_metric_3/count/Initializer/zeros)}}' was changed by setting attribute after it was run by a session. This mutation will have no effect, and will trigger an error in the future. Either don't modify nodes after running them or create a new session.\n",
      "2023-11-04 20:19:20.307922: W tensorflow/c/c_api.cc:305] Operation '{name:'range_9' id:11177 op device:{requested: '', assigned: ''} def:{{{node range_9}} = Range[Tidx=DT_INT32, _has_manual_control_dependencies=true](range_9/start, Rank_9, range_9/delta)}}' was changed by setting attribute after it was run by a session. This mutation will have no effect, and will trigger an error in the future. Either don't modify nodes after running them or create a new session.\n",
      "2023-11-04 20:19:24.408836: W tensorflow/c/c_api.cc:305] Operation '{name:'add_metric_4/count/Assign' id:11194 op device:{requested: '', assigned: ''} def:{{{node add_metric_4/count/Assign}} = AssignVariableOp[_has_manual_control_dependencies=true, dtype=DT_FLOAT, validate_shape=false](add_metric_4/count, add_metric_4/count/Initializer/zeros)}}' was changed by setting attribute after it was run by a session. This mutation will have no effect, and will trigger an error in the future. Either don't modify nodes after running them or create a new session.\n"
     ]
    },
    {
     "name": "stdout",
     "output_type": "stream",
     "text": [
      "Epoch 1/15\n"
     ]
    },
    {
     "name": "stderr",
     "output_type": "stream",
     "text": [
      "2023-11-04 20:19:29.483553: W tensorflow/c/c_api.cc:305] Operation '{name:'loss/AddN' id:11024 op device:{requested: '', assigned: ''} def:{{{node loss/AddN}} = AddN[N=5, T=DT_FLOAT, _has_manual_control_dependencies=true](mul, mul_1, mul_2, mul_3, mul_4)}}' was changed by setting attribute after it was run by a session. This mutation will have no effect, and will trigger an error in the future. Either don't modify nodes after running them or create a new session.\n",
      "2023-11-04 20:19:29.720432: W tensorflow/c/c_api.cc:305] Operation '{name:'training/SGD/mrcnn_class_bn1/gamma/momentum/Assign' id:12977 op device:{requested: '', assigned: ''} def:{{{node training/SGD/mrcnn_class_bn1/gamma/momentum/Assign}} = AssignVariableOp[_has_manual_control_dependencies=true, dtype=DT_FLOAT, validate_shape=false](training/SGD/mrcnn_class_bn1/gamma/momentum, training/SGD/mrcnn_class_bn1/gamma/momentum/Initializer/zeros)}}' was changed by setting attribute after it was run by a session. This mutation will have no effect, and will trigger an error in the future. Either don't modify nodes after running them or create a new session.\n",
      "2023-11-04 20:19:30.699139: W tensorflow/core/grappler/costs/op_level_cost_estimator.cc:693] Error in PredictCost() for the op: op: \"CropAndResize\" attr { key: \"T\" value { type: DT_FLOAT } } attr { key: \"extrapolation_value\" value { f: 0 } } attr { key: \"method\" value { s: \"bilinear\" } } inputs { dtype: DT_FLOAT shape { dim { size: -444 } dim { size: 56 } dim { size: 56 } dim { size: 1 } } } inputs { dtype: DT_FLOAT shape { dim { size: -14 } dim { size: 4 } } } inputs { dtype: DT_INT32 shape { dim { size: -14 } } } inputs { dtype: DT_INT32 shape { dim { size: 2 } } value { dtype: DT_INT32 tensor_shape { dim { size: 2 } } int_val: 28 } } device { type: \"CPU\" vendor: \"GenuineIntel\" model: \"111\" frequency: 2000 num_cores: 224 environment { key: \"cpu_instruction_set\" value: \"AVX SSE, SSE2, SSE3, SSSE3, SSE4.1, SSE4.2\" } environment { key: \"eigen\" value: \"3.4.90\" } l1_cache_size: 49152 l2_cache_size: 2097152 l3_cache_size: 110100480 memory_size: 268435456 } outputs { dtype: DT_FLOAT shape { dim { size: -14 } dim { size: 28 } dim { size: 28 } dim { size: 1 } } }\n",
      "2023-11-04 20:19:30.700459: W tensorflow/core/grappler/costs/op_level_cost_estimator.cc:693] Error in PredictCost() for the op: op: \"CropAndResize\" attr { key: \"T\" value { type: DT_FLOAT } } attr { key: \"extrapolation_value\" value { f: 0 } } attr { key: \"method\" value { s: \"bilinear\" } } inputs { dtype: DT_FLOAT shape { dim { size: -55 } dim { size: -56 } dim { size: -57 } dim { size: 256 } } } inputs { dtype: DT_FLOAT shape { dim { size: -25 } dim { size: 4 } } } inputs { dtype: DT_INT32 shape { dim { size: -25 } } } inputs { dtype: DT_INT32 shape { dim { size: 2 } } value { dtype: DT_INT32 tensor_shape { dim { size: 2 } } int_val: 7 } } device { type: \"CPU\" vendor: \"GenuineIntel\" model: \"111\" frequency: 2000 num_cores: 224 environment { key: \"cpu_instruction_set\" value: \"AVX SSE, SSE2, SSE3, SSSE3, SSE4.1, SSE4.2\" } environment { key: \"eigen\" value: \"3.4.90\" } l1_cache_size: 49152 l2_cache_size: 2097152 l3_cache_size: 110100480 memory_size: 268435456 } outputs { dtype: DT_FLOAT shape { dim { size: -25 } dim { size: 7 } dim { size: 7 } dim { size: 256 } } }\n",
      "2023-11-04 20:19:30.700505: W tensorflow/core/grappler/costs/op_level_cost_estimator.cc:693] Error in PredictCost() for the op: op: \"CropAndResize\" attr { key: \"T\" value { type: DT_FLOAT } } attr { key: \"extrapolation_value\" value { f: 0 } } attr { key: \"method\" value { s: \"bilinear\" } } inputs { dtype: DT_FLOAT shape { dim { size: -55 } dim { size: -56 } dim { size: -57 } dim { size: 256 } } } inputs { dtype: DT_FLOAT shape { dim { size: -25 } dim { size: 4 } } } inputs { dtype: DT_INT32 shape { dim { size: -25 } } } inputs { dtype: DT_INT32 shape { dim { size: 2 } } value { dtype: DT_INT32 tensor_shape { dim { size: 2 } } int_val: 14 } } device { type: \"CPU\" vendor: \"GenuineIntel\" model: \"111\" frequency: 2000 num_cores: 224 environment { key: \"cpu_instruction_set\" value: \"AVX SSE, SSE2, SSE3, SSSE3, SSE4.1, SSE4.2\" } environment { key: \"eigen\" value: \"3.4.90\" } l1_cache_size: 49152 l2_cache_size: 2097152 l3_cache_size: 110100480 memory_size: 268435456 } outputs { dtype: DT_FLOAT shape { dim { size: -25 } dim { size: 14 } dim { size: 14 } dim { size: 256 } } }\n",
      "2023-11-04 20:19:30.700541: W tensorflow/core/grappler/costs/op_level_cost_estimator.cc:693] Error in PredictCost() for the op: op: \"CropAndResize\" attr { key: \"T\" value { type: DT_FLOAT } } attr { key: \"extrapolation_value\" value { f: 0 } } attr { key: \"method\" value { s: \"bilinear\" } } inputs { dtype: DT_FLOAT shape { dim { size: -55 } dim { size: -58 } dim { size: -59 } dim { size: 256 } } } inputs { dtype: DT_FLOAT shape { dim { size: -28 } dim { size: 4 } } } inputs { dtype: DT_INT32 shape { dim { size: -28 } } } inputs { dtype: DT_INT32 shape { dim { size: 2 } } value { dtype: DT_INT32 tensor_shape { dim { size: 2 } } int_val: 7 } } device { type: \"CPU\" vendor: \"GenuineIntel\" model: \"111\" frequency: 2000 num_cores: 224 environment { key: \"cpu_instruction_set\" value: \"AVX SSE, SSE2, SSE3, SSSE3, SSE4.1, SSE4.2\" } environment { key: \"eigen\" value: \"3.4.90\" } l1_cache_size: 49152 l2_cache_size: 2097152 l3_cache_size: 110100480 memory_size: 268435456 } outputs { dtype: DT_FLOAT shape { dim { size: -28 } dim { size: 7 } dim { size: 7 } dim { size: 256 } } }\n",
      "2023-11-04 20:19:30.700576: W tensorflow/core/grappler/costs/op_level_cost_estimator.cc:693] Error in PredictCost() for the op: op: \"CropAndResize\" attr { key: \"T\" value { type: DT_FLOAT } } attr { key: \"extrapolation_value\" value { f: 0 } } attr { key: \"method\" value { s: \"bilinear\" } } inputs { dtype: DT_FLOAT shape { dim { size: -55 } dim { size: -58 } dim { size: -59 } dim { size: 256 } } } inputs { dtype: DT_FLOAT shape { dim { size: -28 } dim { size: 4 } } } inputs { dtype: DT_INT32 shape { dim { size: -28 } } } inputs { dtype: DT_INT32 shape { dim { size: 2 } } value { dtype: DT_INT32 tensor_shape { dim { size: 2 } } int_val: 14 } } device { type: \"CPU\" vendor: \"GenuineIntel\" model: \"111\" frequency: 2000 num_cores: 224 environment { key: \"cpu_instruction_set\" value: \"AVX SSE, SSE2, SSE3, SSSE3, SSE4.1, SSE4.2\" } environment { key: \"eigen\" value: \"3.4.90\" } l1_cache_size: 49152 l2_cache_size: 2097152 l3_cache_size: 110100480 memory_size: 268435456 } outputs { dtype: DT_FLOAT shape { dim { size: -28 } dim { size: 14 } dim { size: 14 } dim { size: 256 } } }\n",
      "2023-11-04 20:19:30.700610: W tensorflow/core/grappler/costs/op_level_cost_estimator.cc:693] Error in PredictCost() for the op: op: \"CropAndResize\" attr { key: \"T\" value { type: DT_FLOAT } } attr { key: \"extrapolation_value\" value { f: 0 } } attr { key: \"method\" value { s: \"bilinear\" } } inputs { dtype: DT_FLOAT shape { dim { size: -55 } dim { size: -60 } dim { size: -61 } dim { size: 256 } } } inputs { dtype: DT_FLOAT shape { dim { size: -30 } dim { size: 4 } } } inputs { dtype: DT_INT32 shape { dim { size: -30 } } } inputs { dtype: DT_INT32 shape { dim { size: 2 } } value { dtype: DT_INT32 tensor_shape { dim { size: 2 } } int_val: 7 } } device { type: \"CPU\" vendor: \"GenuineIntel\" model: \"111\" frequency: 2000 num_cores: 224 environment { key: \"cpu_instruction_set\" value: \"AVX SSE, SSE2, SSE3, SSSE3, SSE4.1, SSE4.2\" } environment { key: \"eigen\" value: \"3.4.90\" } l1_cache_size: 49152 l2_cache_size: 2097152 l3_cache_size: 110100480 memory_size: 268435456 } outputs { dtype: DT_FLOAT shape { dim { size: -30 } dim { size: 7 } dim { size: 7 } dim { size: 256 } } }\n",
      "2023-11-04 20:19:30.700644: W tensorflow/core/grappler/costs/op_level_cost_estimator.cc:693] Error in PredictCost() for the op: op: \"CropAndResize\" attr { key: \"T\" value { type: DT_FLOAT } } attr { key: \"extrapolation_value\" value { f: 0 } } attr { key: \"method\" value { s: \"bilinear\" } } inputs { dtype: DT_FLOAT shape { dim { size: -55 } dim { size: -60 } dim { size: -61 } dim { size: 256 } } } inputs { dtype: DT_FLOAT shape { dim { size: -30 } dim { size: 4 } } } inputs { dtype: DT_INT32 shape { dim { size: -30 } } } inputs { dtype: DT_INT32 shape { dim { size: 2 } } value { dtype: DT_INT32 tensor_shape { dim { size: 2 } } int_val: 14 } } device { type: \"CPU\" vendor: \"GenuineIntel\" model: \"111\" frequency: 2000 num_cores: 224 environment { key: \"cpu_instruction_set\" value: \"AVX SSE, SSE2, SSE3, SSSE3, SSE4.1, SSE4.2\" } environment { key: \"eigen\" value: \"3.4.90\" } l1_cache_size: 49152 l2_cache_size: 2097152 l3_cache_size: 110100480 memory_size: 268435456 } outputs { dtype: DT_FLOAT shape { dim { size: -30 } dim { size: 14 } dim { size: 14 } dim { size: 256 } } }\n",
      "2023-11-04 20:19:30.700691: W tensorflow/core/grappler/costs/op_level_cost_estimator.cc:693] Error in PredictCost() for the op: op: \"CropAndResize\" attr { key: \"T\" value { type: DT_FLOAT } } attr { key: \"extrapolation_value\" value { f: 0 } } attr { key: \"method\" value { s: \"bilinear\" } } inputs { dtype: DT_FLOAT shape { dim { size: -55 } dim { size: -62 } dim { size: -63 } dim { size: 256 } } } inputs { dtype: DT_FLOAT shape { dim { size: -32 } dim { size: 4 } } } inputs { dtype: DT_INT32 shape { dim { size: -32 } } } inputs { dtype: DT_INT32 shape { dim { size: 2 } } value { dtype: DT_INT32 tensor_shape { dim { size: 2 } } int_val: 7 } } device { type: \"CPU\" vendor: \"GenuineIntel\" model: \"111\" frequency: 2000 num_cores: 224 environment { key: \"cpu_instruction_set\" value: \"AVX SSE, SSE2, SSE3, SSSE3, SSE4.1, SSE4.2\" } environment { key: \"eigen\" value: \"3.4.90\" } l1_cache_size: 49152 l2_cache_size: 2097152 l3_cache_size: 110100480 memory_size: 268435456 } outputs { dtype: DT_FLOAT shape { dim { size: -32 } dim { size: 7 } dim { size: 7 } dim { size: 256 } } }\n",
      "2023-11-04 20:19:30.700725: W tensorflow/core/grappler/costs/op_level_cost_estimator.cc:693] Error in PredictCost() for the op: op: \"CropAndResize\" attr { key: \"T\" value { type: DT_FLOAT } } attr { key: \"extrapolation_value\" value { f: 0 } } attr { key: \"method\" value { s: \"bilinear\" } } inputs { dtype: DT_FLOAT shape { dim { size: -55 } dim { size: -62 } dim { size: -63 } dim { size: 256 } } } inputs { dtype: DT_FLOAT shape { dim { size: -32 } dim { size: 4 } } } inputs { dtype: DT_INT32 shape { dim { size: -32 } } } inputs { dtype: DT_INT32 shape { dim { size: 2 } } value { dtype: DT_INT32 tensor_shape { dim { size: 2 } } int_val: 14 } } device { type: \"CPU\" vendor: \"GenuineIntel\" model: \"111\" frequency: 2000 num_cores: 224 environment { key: \"cpu_instruction_set\" value: \"AVX SSE, SSE2, SSE3, SSSE3, SSE4.1, SSE4.2\" } environment { key: \"eigen\" value: \"3.4.90\" } l1_cache_size: 49152 l2_cache_size: 2097152 l3_cache_size: 110100480 memory_size: 268435456 } outputs { dtype: DT_FLOAT shape { dim { size: -32 } dim { size: 14 } dim { size: 14 } dim { size: 256 } } }\n"
     ]
    },
    {
     "name": "stdout",
     "output_type": "stream",
     "text": [
      "  1/100 [..............................] - ETA: 9:21 - batch: 0.0000e+00 - size: 1.0000 - loss: 22.4519 - rpn_class_loss: 14.6753 - rpn_bbox_loss: 7.7765 - mrcnn_class_loss: 7.7721e-05 - mrcnn_bbox_loss: 0.0000e+00 - mrcnn_mask_loss: 0.0000e+00"
     ]
    },
    {
     "name": "stderr",
     "output_type": "stream",
     "text": [
      "2023-11-04 20:19:32.415581: I tensorflow/tsl/profiler/lib/profiler_session.cc:104] Profiler session initializing.\n",
      "2023-11-04 20:19:32.415608: I tensorflow/tsl/profiler/lib/profiler_session.cc:119] Profiler session started.\n"
     ]
    },
    {
     "name": "stdout",
     "output_type": "stream",
     "text": [
      "  2/100 [..............................] - ETA: 1:11 - batch: 0.5000 - size: 1.0000 - loss: 18.0890 - rpn_class_loss: 11.5956 - rpn_bbox_loss: 6.4933 - mrcnn_class_loss: 6.1033e-05 - mrcnn_bbox_loss: 0.0000e+00 - mrcnn_mask_loss: 0.0000e+00    "
     ]
    },
    {
     "name": "stderr",
     "output_type": "stream",
     "text": [
      "2023-11-04 20:19:33.030659: I tensorflow/tsl/profiler/lib/profiler_session.cc:70] Profiler session collecting data.\n",
      "2023-11-04 20:19:33.137120: I tensorflow/tsl/profiler/lib/profiler_session.cc:131] Profiler session tear down.\n",
      "2023-11-04 20:19:33.138309: I tensorflow/tsl/profiler/rpc/client/save_profile.cc:144] Collecting XSpace to repository: logs/tumor_detector20231104T2019/plugins/profile/2023_11_04_20_19_33/training.xplane.pb\n"
     ]
    },
    {
     "name": "stdout",
     "output_type": "stream",
     "text": [
      "100/100 [==============================] - ETA: 0s - batch: 49.5000 - size: 1.0000 - loss: 5.6169 - rpn_class_loss: 0.2791 - rpn_bbox_loss: 3.7054 - mrcnn_class_loss: 0.0312 - mrcnn_bbox_loss: 1.2937 - mrcnn_mask_loss: 0.3074"
     ]
    },
    {
     "name": "stderr",
     "output_type": "stream",
     "text": [
      "/home/sdp/.local/lib/python3.10/site-packages/keras/src/engine/training_v1.py:2335: UserWarning: `Model.state_updates` will be removed in a future version. This property should not be used in TensorFlow 2.0, as `updates` are applied automatically.\n",
      "  updates = self.state_updates\n",
      "2023-11-04 20:21:40.063993: W tensorflow/c/c_api.cc:305] Operation '{name:'loss/AddN' id:11024 op device:{requested: '', assigned: ''} def:{{{node loss/AddN}} = AddN[N=5, T=DT_FLOAT, _has_manual_control_dependencies=true](mul, mul_1, mul_2, mul_3, mul_4)}}' was changed by setting attribute after it was run by a session. This mutation will have no effect, and will trigger an error in the future. Either don't modify nodes after running them or create a new session.\n",
      "2023-11-04 20:21:40.763047: W tensorflow/core/grappler/costs/op_level_cost_estimator.cc:693] Error in PredictCost() for the op: op: \"CropAndResize\" attr { key: \"T\" value { type: DT_FLOAT } } attr { key: \"extrapolation_value\" value { f: 0 } } attr { key: \"method\" value { s: \"bilinear\" } } inputs { dtype: DT_FLOAT shape { dim { size: -394 } dim { size: 56 } dim { size: 56 } dim { size: 1 } } } inputs { dtype: DT_FLOAT shape { dim { size: -12 } dim { size: 4 } } } inputs { dtype: DT_INT32 shape { dim { size: -12 } } } inputs { dtype: DT_INT32 shape { dim { size: 2 } } value { dtype: DT_INT32 tensor_shape { dim { size: 2 } } int_val: 28 } } device { type: \"CPU\" vendor: \"GenuineIntel\" model: \"111\" frequency: 2000 num_cores: 224 environment { key: \"cpu_instruction_set\" value: \"AVX SSE, SSE2, SSE3, SSSE3, SSE4.1, SSE4.2\" } environment { key: \"eigen\" value: \"3.4.90\" } l1_cache_size: 49152 l2_cache_size: 2097152 l3_cache_size: 110100480 memory_size: 268435456 } outputs { dtype: DT_FLOAT shape { dim { size: -12 } dim { size: 28 } dim { size: 28 } dim { size: 1 } } }\n",
      "2023-11-04 20:21:40.764028: W tensorflow/core/grappler/costs/op_level_cost_estimator.cc:693] Error in PredictCost() for the op: op: \"CropAndResize\" attr { key: \"T\" value { type: DT_FLOAT } } attr { key: \"extrapolation_value\" value { f: 0 } } attr { key: \"method\" value { s: \"bilinear\" } } inputs { dtype: DT_FLOAT shape { dim { size: -49 } dim { size: -323 } dim { size: -324 } dim { size: 256 } } } inputs { dtype: DT_FLOAT shape { dim { size: -23 } dim { size: 4 } } } inputs { dtype: DT_INT32 shape { dim { size: -23 } } } inputs { dtype: DT_INT32 shape { dim { size: 2 } } value { dtype: DT_INT32 tensor_shape { dim { size: 2 } } int_val: 7 } } device { type: \"CPU\" vendor: \"GenuineIntel\" model: \"111\" frequency: 2000 num_cores: 224 environment { key: \"cpu_instruction_set\" value: \"AVX SSE, SSE2, SSE3, SSSE3, SSE4.1, SSE4.2\" } environment { key: \"eigen\" value: \"3.4.90\" } l1_cache_size: 49152 l2_cache_size: 2097152 l3_cache_size: 110100480 memory_size: 268435456 } outputs { dtype: DT_FLOAT shape { dim { size: -23 } dim { size: 7 } dim { size: 7 } dim { size: 256 } } }\n",
      "2023-11-04 20:21:40.764080: W tensorflow/core/grappler/costs/op_level_cost_estimator.cc:693] Error in PredictCost() for the op: op: \"CropAndResize\" attr { key: \"T\" value { type: DT_FLOAT } } attr { key: \"extrapolation_value\" value { f: 0 } } attr { key: \"method\" value { s: \"bilinear\" } } inputs { dtype: DT_FLOAT shape { dim { size: -49 } dim { size: -323 } dim { size: -324 } dim { size: 256 } } } inputs { dtype: DT_FLOAT shape { dim { size: -23 } dim { size: 4 } } } inputs { dtype: DT_INT32 shape { dim { size: -23 } } } inputs { dtype: DT_INT32 shape { dim { size: 2 } } value { dtype: DT_INT32 tensor_shape { dim { size: 2 } } int_val: 14 } } device { type: \"CPU\" vendor: \"GenuineIntel\" model: \"111\" frequency: 2000 num_cores: 224 environment { key: \"cpu_instruction_set\" value: \"AVX SSE, SSE2, SSE3, SSSE3, SSE4.1, SSE4.2\" } environment { key: \"eigen\" value: \"3.4.90\" } l1_cache_size: 49152 l2_cache_size: 2097152 l3_cache_size: 110100480 memory_size: 268435456 } outputs { dtype: DT_FLOAT shape { dim { size: -23 } dim { size: 14 } dim { size: 14 } dim { size: 256 } } }\n",
      "2023-11-04 20:21:40.764117: W tensorflow/core/grappler/costs/op_level_cost_estimator.cc:693] Error in PredictCost() for the op: op: \"CropAndResize\" attr { key: \"T\" value { type: DT_FLOAT } } attr { key: \"extrapolation_value\" value { f: 0 } } attr { key: \"method\" value { s: \"bilinear\" } } inputs { dtype: DT_FLOAT shape { dim { size: -49 } dim { size: -313 } dim { size: -314 } dim { size: 256 } } } inputs { dtype: DT_FLOAT shape { dim { size: -26 } dim { size: 4 } } } inputs { dtype: DT_INT32 shape { dim { size: -26 } } } inputs { dtype: DT_INT32 shape { dim { size: 2 } } value { dtype: DT_INT32 tensor_shape { dim { size: 2 } } int_val: 7 } } device { type: \"CPU\" vendor: \"GenuineIntel\" model: \"111\" frequency: 2000 num_cores: 224 environment { key: \"cpu_instruction_set\" value: \"AVX SSE, SSE2, SSE3, SSSE3, SSE4.1, SSE4.2\" } environment { key: \"eigen\" value: \"3.4.90\" } l1_cache_size: 49152 l2_cache_size: 2097152 l3_cache_size: 110100480 memory_size: 268435456 } outputs { dtype: DT_FLOAT shape { dim { size: -26 } dim { size: 7 } dim { size: 7 } dim { size: 256 } } }\n",
      "2023-11-04 20:21:40.764149: W tensorflow/core/grappler/costs/op_level_cost_estimator.cc:693] Error in PredictCost() for the op: op: \"CropAndResize\" attr { key: \"T\" value { type: DT_FLOAT } } attr { key: \"extrapolation_value\" value { f: 0 } } attr { key: \"method\" value { s: \"bilinear\" } } inputs { dtype: DT_FLOAT shape { dim { size: -49 } dim { size: -313 } dim { size: -314 } dim { size: 256 } } } inputs { dtype: DT_FLOAT shape { dim { size: -26 } dim { size: 4 } } } inputs { dtype: DT_INT32 shape { dim { size: -26 } } } inputs { dtype: DT_INT32 shape { dim { size: 2 } } value { dtype: DT_INT32 tensor_shape { dim { size: 2 } } int_val: 14 } } device { type: \"CPU\" vendor: \"GenuineIntel\" model: \"111\" frequency: 2000 num_cores: 224 environment { key: \"cpu_instruction_set\" value: \"AVX SSE, SSE2, SSE3, SSSE3, SSE4.1, SSE4.2\" } environment { key: \"eigen\" value: \"3.4.90\" } l1_cache_size: 49152 l2_cache_size: 2097152 l3_cache_size: 110100480 memory_size: 268435456 } outputs { dtype: DT_FLOAT shape { dim { size: -26 } dim { size: 14 } dim { size: 14 } dim { size: 256 } } }\n",
      "2023-11-04 20:21:40.764182: W tensorflow/core/grappler/costs/op_level_cost_estimator.cc:693] Error in PredictCost() for the op: op: \"CropAndResize\" attr { key: \"T\" value { type: DT_FLOAT } } attr { key: \"extrapolation_value\" value { f: 0 } } attr { key: \"method\" value { s: \"bilinear\" } } inputs { dtype: DT_FLOAT shape { dim { size: -49 } dim { size: -301 } dim { size: -302 } dim { size: 256 } } } inputs { dtype: DT_FLOAT shape { dim { size: -28 } dim { size: 4 } } } inputs { dtype: DT_INT32 shape { dim { size: -28 } } } inputs { dtype: DT_INT32 shape { dim { size: 2 } } value { dtype: DT_INT32 tensor_shape { dim { size: 2 } } int_val: 7 } } device { type: \"CPU\" vendor: \"GenuineIntel\" model: \"111\" frequency: 2000 num_cores: 224 environment { key: \"cpu_instruction_set\" value: \"AVX SSE, SSE2, SSE3, SSSE3, SSE4.1, SSE4.2\" } environment { key: \"eigen\" value: \"3.4.90\" } l1_cache_size: 49152 l2_cache_size: 2097152 l3_cache_size: 110100480 memory_size: 268435456 } outputs { dtype: DT_FLOAT shape { dim { size: -28 } dim { size: 7 } dim { size: 7 } dim { size: 256 } } }\n",
      "2023-11-04 20:21:40.764215: W tensorflow/core/grappler/costs/op_level_cost_estimator.cc:693] Error in PredictCost() for the op: op: \"CropAndResize\" attr { key: \"T\" value { type: DT_FLOAT } } attr { key: \"extrapolation_value\" value { f: 0 } } attr { key: \"method\" value { s: \"bilinear\" } } inputs { dtype: DT_FLOAT shape { dim { size: -49 } dim { size: -301 } dim { size: -302 } dim { size: 256 } } } inputs { dtype: DT_FLOAT shape { dim { size: -28 } dim { size: 4 } } } inputs { dtype: DT_INT32 shape { dim { size: -28 } } } inputs { dtype: DT_INT32 shape { dim { size: 2 } } value { dtype: DT_INT32 tensor_shape { dim { size: 2 } } int_val: 14 } } device { type: \"CPU\" vendor: \"GenuineIntel\" model: \"111\" frequency: 2000 num_cores: 224 environment { key: \"cpu_instruction_set\" value: \"AVX SSE, SSE2, SSE3, SSSE3, SSE4.1, SSE4.2\" } environment { key: \"eigen\" value: \"3.4.90\" } l1_cache_size: 49152 l2_cache_size: 2097152 l3_cache_size: 110100480 memory_size: 268435456 } outputs { dtype: DT_FLOAT shape { dim { size: -28 } dim { size: 14 } dim { size: 14 } dim { size: 256 } } }\n",
      "2023-11-04 20:21:40.764261: W tensorflow/core/grappler/costs/op_level_cost_estimator.cc:693] Error in PredictCost() for the op: op: \"CropAndResize\" attr { key: \"T\" value { type: DT_FLOAT } } attr { key: \"extrapolation_value\" value { f: 0 } } attr { key: \"method\" value { s: \"bilinear\" } } inputs { dtype: DT_FLOAT shape { dim { size: -49 } dim { size: -287 } dim { size: -288 } dim { size: 256 } } } inputs { dtype: DT_FLOAT shape { dim { size: -30 } dim { size: 4 } } } inputs { dtype: DT_INT32 shape { dim { size: -30 } } } inputs { dtype: DT_INT32 shape { dim { size: 2 } } value { dtype: DT_INT32 tensor_shape { dim { size: 2 } } int_val: 7 } } device { type: \"CPU\" vendor: \"GenuineIntel\" model: \"111\" frequency: 2000 num_cores: 224 environment { key: \"cpu_instruction_set\" value: \"AVX SSE, SSE2, SSE3, SSSE3, SSE4.1, SSE4.2\" } environment { key: \"eigen\" value: \"3.4.90\" } l1_cache_size: 49152 l2_cache_size: 2097152 l3_cache_size: 110100480 memory_size: 268435456 } outputs { dtype: DT_FLOAT shape { dim { size: -30 } dim { size: 7 } dim { size: 7 } dim { size: 256 } } }\n",
      "2023-11-04 20:21:40.764293: W tensorflow/core/grappler/costs/op_level_cost_estimator.cc:693] Error in PredictCost() for the op: op: \"CropAndResize\" attr { key: \"T\" value { type: DT_FLOAT } } attr { key: \"extrapolation_value\" value { f: 0 } } attr { key: \"method\" value { s: \"bilinear\" } } inputs { dtype: DT_FLOAT shape { dim { size: -49 } dim { size: -287 } dim { size: -288 } dim { size: 256 } } } inputs { dtype: DT_FLOAT shape { dim { size: -30 } dim { size: 4 } } } inputs { dtype: DT_INT32 shape { dim { size: -30 } } } inputs { dtype: DT_INT32 shape { dim { size: 2 } } value { dtype: DT_INT32 tensor_shape { dim { size: 2 } } int_val: 14 } } device { type: \"CPU\" vendor: \"GenuineIntel\" model: \"111\" frequency: 2000 num_cores: 224 environment { key: \"cpu_instruction_set\" value: \"AVX SSE, SSE2, SSE3, SSSE3, SSE4.1, SSE4.2\" } environment { key: \"eigen\" value: \"3.4.90\" } l1_cache_size: 49152 l2_cache_size: 2097152 l3_cache_size: 110100480 memory_size: 268435456 } outputs { dtype: DT_FLOAT shape { dim { size: -30 } dim { size: 14 } dim { size: 14 } dim { size: 256 } } }\n"
     ]
    },
    {
     "name": "stdout",
     "output_type": "stream",
     "text": [
      "100/100 [==============================] - 244s 2s/step - batch: 49.5000 - size: 1.0000 - loss: 5.6169 - rpn_class_loss: 0.2791 - rpn_bbox_loss: 3.7054 - mrcnn_class_loss: 0.0312 - mrcnn_bbox_loss: 1.2937 - mrcnn_mask_loss: 0.3074 - val_loss: 1.1941 - val_rpn_class_loss: 0.0748 - val_rpn_bbox_loss: 1.1193 - val_mrcnn_class_loss: 7.1525e-06 - val_mrcnn_bbox_loss: 0.0000e+00 - val_mrcnn_mask_loss: 0.0000e+00\n",
      "Epoch 2/15\n",
      "100/100 [==============================] - 274s 3s/step - batch: 49.5000 - size: 1.0000 - loss: 1.9256 - rpn_class_loss: 0.0060 - rpn_bbox_loss: 0.8648 - mrcnn_class_loss: 0.0354 - mrcnn_bbox_loss: 0.6211 - mrcnn_mask_loss: 0.3983 - val_loss: 0.5346 - val_rpn_class_loss: 0.0213 - val_rpn_bbox_loss: 0.5133 - val_mrcnn_class_loss: 1.3351e-05 - val_mrcnn_bbox_loss: 0.0000e+00 - val_mrcnn_mask_loss: 0.0000e+00\n",
      "Epoch 3/15\n",
      "100/100 [==============================] - 287s 3s/step - batch: 49.5000 - size: 1.0000 - loss: 0.6414 - rpn_class_loss: 0.0037 - rpn_bbox_loss: 0.2150 - mrcnn_class_loss: 0.0141 - mrcnn_bbox_loss: 0.1456 - mrcnn_mask_loss: 0.2630 - val_loss: 0.4803 - val_rpn_class_loss: 0.0228 - val_rpn_bbox_loss: 0.4575 - val_mrcnn_class_loss: 2.0266e-06 - val_mrcnn_bbox_loss: 0.0000e+00 - val_mrcnn_mask_loss: 0.0000e+00\n",
      "Epoch 4/15\n",
      "100/100 [==============================] - 297s 3s/step - batch: 49.5000 - size: 1.0000 - loss: 0.3323 - rpn_class_loss: 0.0018 - rpn_bbox_loss: 0.0593 - mrcnn_class_loss: 0.0108 - mrcnn_bbox_loss: 0.0570 - mrcnn_mask_loss: 0.2033 - val_loss: 0.2347 - val_rpn_class_loss: 0.0192 - val_rpn_bbox_loss: 0.2155 - val_mrcnn_class_loss: 5.1260e-06 - val_mrcnn_bbox_loss: 0.0000e+00 - val_mrcnn_mask_loss: 0.0000e+00\n",
      "Epoch 5/15\n",
      "100/100 [==============================] - 311s 3s/step - batch: 49.5000 - size: 1.0000 - loss: 0.1755 - rpn_class_loss: 9.8768e-04 - rpn_bbox_loss: 0.0085 - mrcnn_class_loss: 0.0070 - mrcnn_bbox_loss: 0.0186 - mrcnn_mask_loss: 0.1404 - val_loss: 0.3077 - val_rpn_class_loss: 0.0149 - val_rpn_bbox_loss: 0.2927 - val_mrcnn_class_loss: 2.0266e-06 - val_mrcnn_bbox_loss: 0.0000e+00 - val_mrcnn_mask_loss: 0.0000e+00\n",
      "Epoch 6/15\n",
      "100/100 [==============================] - 326s 3s/step - batch: 49.5000 - size: 1.0000 - loss: 0.0989 - rpn_class_loss: 4.4024e-04 - rpn_bbox_loss: 0.0040 - mrcnn_class_loss: 0.0049 - mrcnn_bbox_loss: 0.0063 - mrcnn_mask_loss: 0.0832 - val_loss: 0.4696 - val_rpn_class_loss: 0.0196 - val_rpn_bbox_loss: 0.4500 - val_mrcnn_class_loss: 2.3842e-07 - val_mrcnn_bbox_loss: 0.0000e+00 - val_mrcnn_mask_loss: 0.0000e+00\n",
      "Epoch 7/15\n",
      "100/100 [==============================] - 405s 4s/step - batch: 49.5000 - size: 1.0000 - loss: 0.0815 - rpn_class_loss: 2.8376e-04 - rpn_bbox_loss: 0.0019 - mrcnn_class_loss: 0.0032 - mrcnn_bbox_loss: 0.0044 - mrcnn_mask_loss: 0.0717 - val_loss: 0.2799 - val_rpn_class_loss: 0.0225 - val_rpn_bbox_loss: 0.2574 - val_mrcnn_class_loss: 4.7684e-07 - val_mrcnn_bbox_loss: 0.0000e+00 - val_mrcnn_mask_loss: 0.0000e+00\n",
      "Epoch 8/15\n",
      "100/100 [==============================] - 347s 3s/step - batch: 49.5000 - size: 1.0000 - loss: 0.0892 - rpn_class_loss: 2.8818e-04 - rpn_bbox_loss: 0.0031 - mrcnn_class_loss: 0.0032 - mrcnn_bbox_loss: 0.0082 - mrcnn_mask_loss: 0.0743 - val_loss: 0.1731 - val_rpn_class_loss: 0.0198 - val_rpn_bbox_loss: 0.1533 - val_mrcnn_class_loss: 2.3842e-07 - val_mrcnn_bbox_loss: 0.0000e+00 - val_mrcnn_mask_loss: 0.0000e+00\n",
      "Epoch 9/15\n",
      "100/100 [==============================] - 352s 4s/step - batch: 49.5000 - size: 1.0000 - loss: 0.0696 - rpn_class_loss: 1.7760e-04 - rpn_bbox_loss: 0.0023 - mrcnn_class_loss: 0.0035 - mrcnn_bbox_loss: 0.0052 - mrcnn_mask_loss: 0.0584 - val_loss: 0.1421 - val_rpn_class_loss: 0.0161 - val_rpn_bbox_loss: 0.1260 - val_mrcnn_class_loss: 2.3842e-07 - val_mrcnn_bbox_loss: 0.0000e+00 - val_mrcnn_mask_loss: 0.0000e+00\n",
      "Epoch 10/15\n",
      "100/100 [==============================] - 349s 4s/step - batch: 49.5000 - size: 1.0000 - loss: 0.0506 - rpn_class_loss: 1.1900e-04 - rpn_bbox_loss: 2.5018e-04 - mrcnn_class_loss: 9.5318e-04 - mrcnn_bbox_loss: 5.0480e-04 - mrcnn_mask_loss: 0.0488 - val_loss: 0.1382 - val_rpn_class_loss: 0.0174 - val_rpn_bbox_loss: 0.1208 - val_mrcnn_class_loss: 2.3842e-07 - val_mrcnn_bbox_loss: 0.0000e+00 - val_mrcnn_mask_loss: 0.0000e+00\n",
      "Epoch 11/15\n",
      "100/100 [==============================] - 356s 4s/step - batch: 49.5000 - size: 1.0000 - loss: 0.0466 - rpn_class_loss: 8.1180e-05 - rpn_bbox_loss: 2.3739e-04 - mrcnn_class_loss: 4.3153e-04 - mrcnn_bbox_loss: 4.4029e-04 - mrcnn_mask_loss: 0.0454 - val_loss: 0.1756 - val_rpn_class_loss: 0.0232 - val_rpn_bbox_loss: 0.1525 - val_mrcnn_class_loss: 1.1921e-07 - val_mrcnn_bbox_loss: 0.0000e+00 - val_mrcnn_mask_loss: 0.0000e+00\n",
      "Epoch 12/15\n",
      "100/100 [==============================] - 371s 4s/step - batch: 49.5000 - size: 1.0000 - loss: 0.0430 - rpn_class_loss: 6.4601e-05 - rpn_bbox_loss: 2.8823e-04 - mrcnn_class_loss: 4.3462e-04 - mrcnn_bbox_loss: 5.4360e-04 - mrcnn_mask_loss: 0.0417 - val_loss: 0.1604 - val_rpn_class_loss: 0.0193 - val_rpn_bbox_loss: 0.1411 - val_mrcnn_class_loss: 1.1921e-07 - val_mrcnn_bbox_loss: 0.0000e+00 - val_mrcnn_mask_loss: 0.0000e+00\n",
      "Epoch 13/15\n",
      "100/100 [==============================] - 433s 4s/step - batch: 49.5000 - size: 1.0000 - loss: 0.0391 - rpn_class_loss: 6.0649e-05 - rpn_bbox_loss: 2.3362e-04 - mrcnn_class_loss: 1.9952e-04 - mrcnn_bbox_loss: 3.3049e-04 - mrcnn_mask_loss: 0.0383 - val_loss: 0.1787 - val_rpn_class_loss: 0.0234 - val_rpn_bbox_loss: 0.1553 - val_mrcnn_class_loss: 1.1921e-07 - val_mrcnn_bbox_loss: 0.0000e+00 - val_mrcnn_mask_loss: 0.0000e+00\n",
      "Epoch 14/15\n",
      "100/100 [==============================] - 360s 4s/step - batch: 49.5000 - size: 1.0000 - loss: 0.0353 - rpn_class_loss: 5.2918e-05 - rpn_bbox_loss: 1.3521e-04 - mrcnn_class_loss: 1.6973e-04 - mrcnn_bbox_loss: 1.5773e-04 - mrcnn_mask_loss: 0.0348 - val_loss: 0.1780 - val_rpn_class_loss: 0.0222 - val_rpn_bbox_loss: 0.1559 - val_mrcnn_class_loss: 1.1921e-07 - val_mrcnn_bbox_loss: 0.0000e+00 - val_mrcnn_mask_loss: 0.0000e+00\n",
      "Epoch 15/15\n",
      "100/100 [==============================] - 369s 4s/step - batch: 49.5000 - size: 1.0000 - loss: 0.0396 - rpn_class_loss: 4.5821e-05 - rpn_bbox_loss: 5.4610e-04 - mrcnn_class_loss: 3.9426e-04 - mrcnn_bbox_loss: 5.2837e-04 - mrcnn_mask_loss: 0.0381 - val_loss: 0.2622 - val_rpn_class_loss: 0.0323 - val_rpn_bbox_loss: 0.2299 - val_mrcnn_class_loss: 0.0000e+00 - val_mrcnn_bbox_loss: 0.0000e+00 - val_mrcnn_mask_loss: 0.0000e+00\n"
     ]
    }
   ],
   "source": [
    "# Training dataset.\n",
    "dataset_train = BrainScanDataset()\n",
    "dataset_train.load_brain_scan(DATASET_DIR, 'train')\n",
    "dataset_train.prepare()\n",
    "\n",
    "# Validation dataset\n",
    "dataset_val = BrainScanDataset()\n",
    "dataset_val.load_brain_scan(DATASET_DIR, 'val')\n",
    "dataset_val.prepare()\n",
    "\n",
    "dataset_test = BrainScanDataset()\n",
    "dataset_test.load_brain_scan(DATASET_DIR, 'test')\n",
    "dataset_test.prepare()\n",
    "\n",
    "# Since we're using a very small dataset, and starting from\n",
    "# COCO trained weights, we don't need to train too long. Also,\n",
    "# no need to train all layers, just the heads should do it.\n",
    "print(\"Training network heads\")\n",
    "model.train(\n",
    "    dataset_train, dataset_val,\n",
    "    learning_rate=config.LEARNING_RATE,\n",
    "    epochs=15,\n",
    "    layers='heads'\n",
    ")"
   ]
  }
 ],
 "metadata": {
  "kernelspec": {
   "display_name": "Python 3",
   "language": "python",
   "name": "python3"
  },
  "language_info": {
   "codemirror_mode": {
    "name": "ipython",
    "version": 3
   },
   "file_extension": ".py",
   "mimetype": "text/x-python",
   "name": "python",
   "nbconvert_exporter": "python",
   "pygments_lexer": "ipython3",
   "version": "3.10.12"
  }
 },
 "nbformat": 4,
 "nbformat_minor": 2
}
