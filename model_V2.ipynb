{
 "cells": [
  {
   "cell_type": "markdown",
   "metadata": {},
   "source": [
    "# 2. Setting up the Environment"
   ]
  },
  {
   "cell_type": "code",
   "execution_count": null,
   "metadata": {},
   "outputs": [],
   "source": [
    "from IPython.display import clear_output\n",
    "\n",
    "'''\n",
    "!git clone https://github.com/matterport/Mask_RCNN.git # load Mask R-CNN code implementation\n",
    "!git clone https://github.com/leekunhee/Mask_RCNN # load Mask R-CNN code implementation (tensorflow2.2 compatible)\n",
    "!git clone https://github.com/ruslan-kl/brain-tumor.git # load new data set and annotations\n",
    "!git clone https://github.com/Anushaaelango/brain-tumor # load new data set and annotations (available)\n",
    "!pip3 install pycocotools\n",
    "\n",
    "rm -rf brain-tumor/.git/\n",
    "rm -rf Mask_RCNN/.git/\n",
    "'''\n",
    "\n",
    "clear_output()"
   ]
  },
  {
   "cell_type": "code",
   "execution_count": null,
   "metadata": {},
   "outputs": [],
   "source": [
    "import os \n",
    "import sys\n",
    "from tqdm import tqdm\n",
    "import cv2\n",
    "import numpy as np\n",
    "import json\n",
    "import skimage.draw\n",
    "import matplotlib\n",
    "import matplotlib.pyplot as plt\n",
    "import random\n",
    "\n",
    "# Root directory of the project\n",
    "ROOT_DIR = os.path.abspath('Mask_RCNN/')\n",
    "\n",
    "# Import Mask RCNN\n",
    "sys.path.append(ROOT_DIR) \n",
    "from mrcnn.config import Config\n",
    "from mrcnn import utils\n",
    "from mrcnn.model import log\n",
    "\n",
    "import mrcnn.model as modellib\n",
    "from mrcnn import visualize\n",
    "\n",
    "# Import COCO config\n",
    "sys.path.append(os.path.join(ROOT_DIR, 'samples/coco/'))\n",
    "\n",
    "from Mask_RCNN.samples.coco import coco\n",
    "\n",
    "plt.rcParams['figure.facecolor'] = 'white'\n",
    "\n",
    "clear_output()"
   ]
  },
  {
   "cell_type": "code",
   "execution_count": null,
   "metadata": {},
   "outputs": [],
   "source": [
    "def get_ax(rows=1, cols=1, size=7):\n",
    "    \"\"\"Return a Matplotlib Axes array to be used in\n",
    "    all visualizations in the notebook. Provide a\n",
    "    central point to control graph sizes.\n",
    "    \n",
    "    Change the default size attribute to control the size\n",
    "    of rendered images\n",
    "    \"\"\"\n",
    "    _, ax = plt.subplots(rows, cols, figsize=(size*cols, size*rows))\n",
    "    return ax"
   ]
  },
  {
   "cell_type": "code",
   "execution_count": null,
   "metadata": {},
   "outputs": [],
   "source": [
    "\n",
    "MODEL_DIR = os.path.join(ROOT_DIR, 'logs') # directory to save logs and trained model\n",
    "# ANNOTATIONS_DIR = 'brain-tumor/data/new/annotations/' # directory with annotations for train/val sets\n",
    "DATASET_DIR = 'brain-tumor/data_cleaned/' # directory with image data\n",
    "DEFAULT_LOGS_DIR = 'logs' \n",
    "\n",
    "# Local path to trained weights file\n",
    "COCO_MODEL_PATH = os.path.join(ROOT_DIR, \"mask_rcnn_coco.h5\")\n",
    "# Download COCO trained weights from Releases if needed\n",
    "\n",
    "if not os.path.exists(COCO_MODEL_PATH):\n",
    "    utils.download_trained_weights(COCO_MODEL_PATH)    \n"
   ]
  },
  {
   "cell_type": "code",
   "execution_count": null,
   "metadata": {},
   "outputs": [],
   "source": [
    "from tumor_config import TumorConfig\n",
    "    \n",
    "config = TumorConfig()\n",
    "config.display()"
   ]
  },
  {
   "cell_type": "code",
   "execution_count": null,
   "metadata": {},
   "outputs": [],
   "source": [
    "from brain_scan_dataset import BrainScanDataset"
   ]
  },
  {
   "cell_type": "markdown",
   "metadata": {},
   "source": [
    "# 3. Mask R-CNN Model"
   ]
  },
  {
   "cell_type": "code",
   "execution_count": null,
   "metadata": {},
   "outputs": [],
   "source": [
    "model = modellib.MaskRCNN(\n",
    "    mode='training', \n",
    "    config=config, \n",
    "    model_dir=DEFAULT_LOGS_DIR\n",
    ")\n",
    "\n",
    "model.load_weights(\n",
    "    COCO_MODEL_PATH, \n",
    "    by_name=True, \n",
    "    exclude=[\"mrcnn_class_logits\", \"mrcnn_bbox_fc\", \"mrcnn_bbox\", \"mrcnn_mask\"]\n",
    ")"
   ]
  },
  {
   "cell_type": "code",
   "execution_count": null,
   "metadata": {},
   "outputs": [],
   "source": [
    "# Training dataset.\n",
    "dataset_train = BrainScanDataset()\n",
    "dataset_train.load_brain_scan(DATASET_DIR, 'train')\n",
    "dataset_train.prepare()\n",
    "\n",
    "# Validation dataset\n",
    "dataset_val = BrainScanDataset()\n",
    "dataset_val.load_brain_scan(DATASET_DIR, 'val')\n",
    "dataset_val.prepare()\n",
    "\n",
    "dataset_test = BrainScanDataset()\n",
    "dataset_test.load_brain_scan(DATASET_DIR, 'test')\n",
    "dataset_test.prepare()\n",
    "\n",
    "# Since we're using a very small dataset, and starting from\n",
    "# COCO trained weights, we don't need to train too long. Also,\n",
    "# no need to train all layers, just the heads should do it.\n",
    "print(\"Training network heads\")\n",
    "model.train(\n",
    "    dataset_train, dataset_val,\n",
    "    learning_rate=config.LEARNING_RATE,\n",
    "    epochs=15,\n",
    "    layers='heads'\n",
    ")"
   ]
  }
 ],
 "metadata": {
  "kernelspec": {
   "display_name": "Python 3",
   "language": "python",
   "name": "python3"
  },
  "language_info": {
   "codemirror_mode": {
    "name": "ipython",
    "version": 3
   },
   "file_extension": ".py",
   "mimetype": "text/x-python",
   "name": "python",
   "nbconvert_exporter": "python",
   "pygments_lexer": "ipython3",
   "version": "3.11.6"
  }
 },
 "nbformat": 4,
 "nbformat_minor": 2
}
